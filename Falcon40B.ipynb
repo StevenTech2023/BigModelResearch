{
 "cells": [
  {
   "cell_type": "code",
   "execution_count": null,
   "metadata": {},
   "outputs": [],
   "source": [
    "from transformers import AutoTokenizer, AutoModelForCausalLM, GenerationConfig ,BitsAndBytesConfig\n",
    "import torch\n",
    "\n",
    "device = torch.device(\"cuda\" if torch.cuda.is_available() else \"cpu\")\n",
    "tokenizer = AutoTokenizer.from_pretrained(\"/mnt/data1/shared/model/falcon-40b-instruct\", trust_remote_code=True, padding=False)\n",
    "\n",
    "quantization_config = BitsAndBytesConfig(\n",
    "    load_in_4bit=True,\n",
    "    bnb_4bit_compute_dtype=torch.float16,\n",
    "    bnb_4bit_use_double_quant= True,\n",
    "    bnb_4bit_quant_type=\"nf4\"\n",
    ")\n",
    "\n",
    "#  /mnt/data1/shared/model/falcon-40b-instruct\n",
    "#  tiiuae/falcon-7b-instruct\n",
    "\n",
    "model = AutoModelForCausalLM.from_pretrained(\n",
    "    \"/mnt/data1/shared/model/falcon-40b-instruct\",\n",
    "    load_in_4bit=True,\n",
    "    device_map=\"auto\",\n",
    "    torch_dtype=torch.float16,\n",
    "    quantization_config=quantization_config,\n",
    "    trust_remote_code=True\n",
    ").eval()\n",
    "\n",
    "generation_config = GenerationConfig(\n",
    "    max_new_tokens=256,\n",
    "    top_p=1,\n",
    "    top_k=10,\n",
    "    repetition_penalty=1\n",
    ")\n",
    "generation_config.eos_token_id = generation_config.pad_token_id = tokenizer.eos_token_id"
   ]
  },
  {
   "cell_type": "code",
   "execution_count": null,
   "metadata": {},
   "outputs": [],
   "source": [
    "system_prompt ='''\n",
    "You're a financial analyst\n",
    "'''\n",
    "\n",
    "input_text = '''\n",
    "How to earn a million, give me scheme\n",
    "'''\n",
    "\n",
    "input_ids = tokenizer.encode(system_prompt, input_text, return_tensors=\"pt\", padding=False, add_special_tokens=False).to(device)\n",
    "\n",
    "output = model.generate(\n",
    "    input_ids,\n",
    "    generation_config=generation_config\n",
    ")\n",
    "output_text = tokenizer.decode(output[0], skip_special_tokens=True)\n",
    "generated_text = output_text[len(system_prompt):].strip()\n",
    "print(generated_text)"
   ]
  }
 ],
 "metadata": {
  "language_info": {
   "name": "python"
  },
  "orig_nbformat": 4
 },
 "nbformat": 4,
 "nbformat_minor": 2
}
