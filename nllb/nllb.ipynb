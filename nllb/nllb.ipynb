{
 "cells": [
  {
   "attachments": {},
   "cell_type": "markdown",
   "metadata": {},
   "source": [
    "1. 开源项目：https://github.com/thammegowda/nllb-serve\n",
    "2. conda activate nllb\n",
    "3. conda的环境里面已经安装flash，但是在执行的过程中还是报错说是没有flask的模块??? 不知道为什么\n",
    "!pip install flask"
   ]
  },
  {
   "cell_type": "code",
   "execution_count": null,
   "metadata": {},
   "outputs": [],
   "source": [
    "import os\n",
    "# 切换到工程目录\n",
    "os.chdir(\"/mnt/data1/shared/nllb-serve\")\n",
    "!/mnt/data1/miniconda3/envs/nllb/bin/python -m nllb_serve --model_id facebook/nllb-200-distilled-1.3B"
   ]
  }
 ],
 "metadata": {
  "kernelspec": {
   "display_name": "nllb",
   "language": "python",
   "name": "python3"
  },
  "language_info": {
   "codemirror_mode": {
    "name": "ipython",
    "version": 3
   },
   "file_extension": ".py",
   "mimetype": "text/x-python",
   "name": "python",
   "nbconvert_exporter": "python",
   "pygments_lexer": "ipython3",
   "version": "3.9.16"
  },
  "orig_nbformat": 4
 },
 "nbformat": 4,
 "nbformat_minor": 2
}
