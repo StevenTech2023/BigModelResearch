{
 "cells": [
  {
   "attachments": {},
   "cell_type": "markdown",
   "metadata": {},
   "source": [
    "1. 开源项目：https://github.com/thammegowda/nllb-serve\n",
    "2. conda activate nllb\n",
    "3. conda的环境里面已经安装flash，但是在执行的过程中还是报错说是没有flask的模块??? 不知道为什么\n",
    "!pip install flask"
   ]
  },
  {
   "cell_type": "code",
   "execution_count": 1,
   "metadata": {},
   "outputs": [
    {
     "name": "stdout",
     "output_type": "stream",
     "text": [
      "INFO:root:torch device=cuda\n",
      "INFO:root:Loading model facebook/nllb-200-distilled-1.3B ...\n",
      "INFO:root:Loading default tokenizer for facebook/nllb-200-distilled-1.3B ...\n",
      "INFO:root:System Info: ${'transformer': '4.29.2', 'Python Version': '3.9.16 (main, Mar  8 2023, 14:00:05) \\n[GCC 11.2.0]', 'Platform': 'Linux-5.10.134-14.al8.x86_64-x86_64-with-glibc2.32', 'Platform Version': '#1 SMP Thu Apr 27 16:46:29 CST 2023', 'Processor': 'x86_64', 'GPU': \"_CudaDeviceProperties(name='NVIDIA A100-SXM4-40GB', major=8, minor=0, total_memory=40396MB, multi_processor_count=108)\", 'Cuda Version': '11.7', 'model_id': 'facebook/nllb-200-distilled-1.3B'}\n",
      " * Serving Flask app 'nllb_serve.app' (lazy loading)\n",
      " * Environment: production\n",
      "\u001b[31m   WARNING: This is a development server. Do not use it in a production deployment.\u001b[0m\n",
      "\u001b[2m   Use a production WSGI server instead.\u001b[0m\n",
      " * Debug mode: off\n",
      "INFO:werkzeug:\u001b[31m\u001b[1mWARNING: This is a development server. Do not use it in a production deployment. Use a production WSGI server instead.\u001b[0m\n",
      " * Running on all addresses (0.0.0.0)\n",
      " * Running on http://127.0.0.1:6060\n",
      " * Running on http://172.18.176.1:6060\n",
      "INFO:werkzeug:\u001b[33mPress CTRL+C to quit\u001b[0m\n",
      "^C\n"
     ]
    }
   ],
   "source": [
    "import os\n",
    "# 切换到工程目录\n",
    "os.chdir(\"/mnt/data1/shared/nllb-serve\")\n",
    "!/mnt/data1/miniconda3/envs/nllb/bin/python -m nllb_serve --model_id facebook/nllb-200-distilled-1.3B"
   ]
  }
 ],
 "metadata": {
  "kernelspec": {
   "display_name": "nllb",
   "language": "python",
   "name": "python3"
  },
  "language_info": {
   "codemirror_mode": {
    "name": "ipython",
    "version": 3
   },
   "file_extension": ".py",
   "mimetype": "text/x-python",
   "name": "python",
   "nbconvert_exporter": "python",
   "pygments_lexer": "ipython3",
   "version": "3.9.16"
  },
  "orig_nbformat": 4
 },
 "nbformat": 4,
 "nbformat_minor": 2
}
